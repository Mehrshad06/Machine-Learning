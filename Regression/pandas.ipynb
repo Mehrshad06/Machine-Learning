{
 "cells": [
  {
   "cell_type": "markdown",
   "metadata": {},
   "source": [
    "### Pandas\n"
   ]
  },
  {
   "cell_type": "code",
   "execution_count": 1,
   "metadata": {},
   "outputs": [],
   "source": [
    "import pandas as pd\n",
    "import numpy as np"
   ]
  },
  {
   "cell_type": "markdown",
   "metadata": {},
   "source": [
    "دیتا ها رو می خونه  و می ذاره تو یه ساختاری و میشه باهاش کار کرد "
   ]
  },
  {
   "cell_type": "code",
   "execution_count": 2,
   "metadata": {},
   "outputs": [
    {
     "data": {
      "application/vnd.microsoft.datawrangler.viewer.v0+json": {
       "columns": [
        {
         "name": "index",
         "rawType": "int64",
         "type": "integer"
        },
        {
         "name": "0",
         "rawType": "object",
         "type": "unknown"
        }
       ],
       "ref": "552416bd-b5bd-47c9-992f-60515301c371",
       "rows": [
        [
         "0",
         "1"
        ],
        [
         "1",
         "2"
        ],
        [
         "2",
         "3"
        ],
        [
         "3",
         "mehrshad"
        ],
        [
         "4",
         "0"
        ],
        [
         "5",
         "-1"
        ],
        [
         "6",
         null
        ]
       ],
       "shape": {
        "columns": 1,
        "rows": 7
       }
      },
      "text/plain": [
       "0           1\n",
       "1           2\n",
       "2           3\n",
       "3    mehrshad\n",
       "4           0\n",
       "5          -1\n",
       "6         NaN\n",
       "dtype: object"
      ]
     },
     "execution_count": 2,
     "metadata": {},
     "output_type": "execute_result"
    }
   ],
   "source": [
    "pd.Series([1,2,3,'mehrshad',0, -1, np.nan]) "
   ]
  },
  {
   "cell_type": "code",
   "execution_count": 3,
   "metadata": {},
   "outputs": [
    {
     "data": {
      "text/plain": [
       "DatetimeIndex(['2025-03-20', '2025-03-21', '2025-03-22', '2025-03-23',\n",
       "               '2025-03-24', '2025-03-25'],\n",
       "              dtype='datetime64[ns]', freq='D')"
      ]
     },
     "execution_count": 3,
     "metadata": {},
     "output_type": "execute_result"
    }
   ],
   "source": [
    "dates = pd.date_range('20250320', periods=6)\n",
    "dates"
   ]
  },
  {
   "cell_type": "code",
   "execution_count": 4,
   "metadata": {},
   "outputs": [
    {
     "data": {
      "application/vnd.microsoft.datawrangler.viewer.v0+json": {
       "columns": [
        {
         "name": "index",
         "rawType": "datetime64[ns]",
         "type": "datetime"
        },
        {
         "name": "A",
         "rawType": "float64",
         "type": "float"
        },
        {
         "name": "B",
         "rawType": "float64",
         "type": "float"
        },
        {
         "name": "C",
         "rawType": "float64",
         "type": "float"
        },
        {
         "name": "D",
         "rawType": "float64",
         "type": "float"
        }
       ],
       "ref": "a98c7964-1b7d-485c-a0e8-4101331c9e88",
       "rows": [
        [
         "2025-03-20 00:00:00",
         "-0.7659936151529475",
         "-1.8110956939632725",
         "0.080401261011357",
         "0.9254930859159867"
        ],
        [
         "2025-03-21 00:00:00",
         "-0.9844425597811187",
         "1.2038241347185819",
         "-0.4205907887733041",
         "0.5348287362297515"
        ],
        [
         "2025-03-22 00:00:00",
         "-0.794802251089789",
         "0.07013145185583951",
         "1.1679068166040485",
         "-1.41495765262495"
        ],
        [
         "2025-03-23 00:00:00",
         "0.9685984068986271",
         "1.6358199910963047",
         "-0.19929922417657775",
         "0.1022678416981778"
        ],
        [
         "2025-03-24 00:00:00",
         "-1.7069236027249741",
         "0.12801650456013916",
         "-1.3508072945368352",
         "-1.1023832173246506"
        ],
        [
         "2025-03-25 00:00:00",
         "0.09913632354349788",
         "-0.4398389315080714",
         "-2.532390684285002",
         "-0.8822630015794155"
        ]
       ],
       "shape": {
        "columns": 4,
        "rows": 6
       }
      },
      "text/html": [
       "<div>\n",
       "<style scoped>\n",
       "    .dataframe tbody tr th:only-of-type {\n",
       "        vertical-align: middle;\n",
       "    }\n",
       "\n",
       "    .dataframe tbody tr th {\n",
       "        vertical-align: top;\n",
       "    }\n",
       "\n",
       "    .dataframe thead th {\n",
       "        text-align: right;\n",
       "    }\n",
       "</style>\n",
       "<table border=\"1\" class=\"dataframe\">\n",
       "  <thead>\n",
       "    <tr style=\"text-align: right;\">\n",
       "      <th></th>\n",
       "      <th>A</th>\n",
       "      <th>B</th>\n",
       "      <th>C</th>\n",
       "      <th>D</th>\n",
       "    </tr>\n",
       "  </thead>\n",
       "  <tbody>\n",
       "    <tr>\n",
       "      <th>2025-03-20</th>\n",
       "      <td>-0.765994</td>\n",
       "      <td>-1.811096</td>\n",
       "      <td>0.080401</td>\n",
       "      <td>0.925493</td>\n",
       "    </tr>\n",
       "    <tr>\n",
       "      <th>2025-03-21</th>\n",
       "      <td>-0.984443</td>\n",
       "      <td>1.203824</td>\n",
       "      <td>-0.420591</td>\n",
       "      <td>0.534829</td>\n",
       "    </tr>\n",
       "    <tr>\n",
       "      <th>2025-03-22</th>\n",
       "      <td>-0.794802</td>\n",
       "      <td>0.070131</td>\n",
       "      <td>1.167907</td>\n",
       "      <td>-1.414958</td>\n",
       "    </tr>\n",
       "    <tr>\n",
       "      <th>2025-03-23</th>\n",
       "      <td>0.968598</td>\n",
       "      <td>1.635820</td>\n",
       "      <td>-0.199299</td>\n",
       "      <td>0.102268</td>\n",
       "    </tr>\n",
       "    <tr>\n",
       "      <th>2025-03-24</th>\n",
       "      <td>-1.706924</td>\n",
       "      <td>0.128017</td>\n",
       "      <td>-1.350807</td>\n",
       "      <td>-1.102383</td>\n",
       "    </tr>\n",
       "    <tr>\n",
       "      <th>2025-03-25</th>\n",
       "      <td>0.099136</td>\n",
       "      <td>-0.439839</td>\n",
       "      <td>-2.532391</td>\n",
       "      <td>-0.882263</td>\n",
       "    </tr>\n",
       "  </tbody>\n",
       "</table>\n",
       "</div>"
      ],
      "text/plain": [
       "                   A         B         C         D\n",
       "2025-03-20 -0.765994 -1.811096  0.080401  0.925493\n",
       "2025-03-21 -0.984443  1.203824 -0.420591  0.534829\n",
       "2025-03-22 -0.794802  0.070131  1.167907 -1.414958\n",
       "2025-03-23  0.968598  1.635820 -0.199299  0.102268\n",
       "2025-03-24 -1.706924  0.128017 -1.350807 -1.102383\n",
       "2025-03-25  0.099136 -0.439839 -2.532391 -0.882263"
      ]
     },
     "execution_count": 4,
     "metadata": {},
     "output_type": "execute_result"
    }
   ],
   "source": [
    "df = pd.DataFrame(np.random.randn(6,4), index=dates, columns=['A','B','C','D'])\n",
    "df  "
   ]
  },
  {
   "cell_type": "code",
   "execution_count": 5,
   "metadata": {},
   "outputs": [
    {
     "data": {
      "text/plain": [
       "array([[ 1.28231056, -1.47306314, -0.19470101, -0.3732998 ],\n",
       "       [ 0.46426816, -0.57257842,  0.79796464,  0.65205648],\n",
       "       [ 0.34049965,  1.19551891, -0.95115123,  1.15727228],\n",
       "       [ 0.38654014, -0.40673722,  0.06157909, -1.29904418],\n",
       "       [-2.12065281, -0.72367495,  0.46068014, -1.75473493],\n",
       "       [ 0.40008852,  0.51666911, -0.92160848, -0.09244255]])"
      ]
     },
     "execution_count": 5,
     "metadata": {},
     "output_type": "execute_result"
    }
   ],
   "source": [
    "np.random.randn(6,4)"
   ]
  },
  {
   "cell_type": "code",
   "execution_count": 6,
   "metadata": {},
   "outputs": [
    {
     "data": {
      "application/vnd.microsoft.datawrangler.viewer.v0+json": {
       "columns": [
        {
         "name": "index",
         "rawType": "datetime64[ns]",
         "type": "datetime"
        },
        {
         "name": "0",
         "rawType": "float64",
         "type": "float"
        },
        {
         "name": "1",
         "rawType": "float64",
         "type": "float"
        },
        {
         "name": "2",
         "rawType": "float64",
         "type": "float"
        },
        {
         "name": "3",
         "rawType": "float64",
         "type": "float"
        }
       ],
       "ref": "06955f5f-449f-4be6-8c7a-da17919ee43d",
       "rows": [
        [
         "2025-03-20 00:00:00",
         "-0.5012838490314484",
         "0.28954220441080447",
         "0.432652641791329",
         "-0.08921481498010657"
        ],
        [
         "2025-03-21 00:00:00",
         "-0.55202743336471",
         "-0.2584413793124431",
         "0.6708782108232684",
         "-1.239356907596853"
        ],
        [
         "2025-03-22 00:00:00",
         "0.6870884616793875",
         "-0.5915036140441792",
         "2.604684875551823",
         "0.05163612509736469"
        ],
        [
         "2025-03-23 00:00:00",
         "-2.2050450991382586",
         "0.13601061284944732",
         "1.122895087092716",
         "0.39576798554316317"
        ],
        [
         "2025-03-24 00:00:00",
         "-0.71229110485714",
         "-0.9313187841518976",
         "-0.7466543238999163",
         "1.07859954247771"
        ],
        [
         "2025-03-25 00:00:00",
         "-1.077372137594897",
         "0.3177973719811867",
         "0.769561184502608",
         "-1.2040577772539458"
        ]
       ],
       "shape": {
        "columns": 4,
        "rows": 6
       }
      },
      "text/html": [
       "<div>\n",
       "<style scoped>\n",
       "    .dataframe tbody tr th:only-of-type {\n",
       "        vertical-align: middle;\n",
       "    }\n",
       "\n",
       "    .dataframe tbody tr th {\n",
       "        vertical-align: top;\n",
       "    }\n",
       "\n",
       "    .dataframe thead th {\n",
       "        text-align: right;\n",
       "    }\n",
       "</style>\n",
       "<table border=\"1\" class=\"dataframe\">\n",
       "  <thead>\n",
       "    <tr style=\"text-align: right;\">\n",
       "      <th></th>\n",
       "      <th>0</th>\n",
       "      <th>1</th>\n",
       "      <th>2</th>\n",
       "      <th>3</th>\n",
       "    </tr>\n",
       "  </thead>\n",
       "  <tbody>\n",
       "    <tr>\n",
       "      <th>2025-03-20</th>\n",
       "      <td>-0.501284</td>\n",
       "      <td>0.289542</td>\n",
       "      <td>0.432653</td>\n",
       "      <td>-0.089215</td>\n",
       "    </tr>\n",
       "    <tr>\n",
       "      <th>2025-03-21</th>\n",
       "      <td>-0.552027</td>\n",
       "      <td>-0.258441</td>\n",
       "      <td>0.670878</td>\n",
       "      <td>-1.239357</td>\n",
       "    </tr>\n",
       "    <tr>\n",
       "      <th>2025-03-22</th>\n",
       "      <td>0.687088</td>\n",
       "      <td>-0.591504</td>\n",
       "      <td>2.604685</td>\n",
       "      <td>0.051636</td>\n",
       "    </tr>\n",
       "    <tr>\n",
       "      <th>2025-03-23</th>\n",
       "      <td>-2.205045</td>\n",
       "      <td>0.136011</td>\n",
       "      <td>1.122895</td>\n",
       "      <td>0.395768</td>\n",
       "    </tr>\n",
       "    <tr>\n",
       "      <th>2025-03-24</th>\n",
       "      <td>-0.712291</td>\n",
       "      <td>-0.931319</td>\n",
       "      <td>-0.746654</td>\n",
       "      <td>1.078600</td>\n",
       "    </tr>\n",
       "    <tr>\n",
       "      <th>2025-03-25</th>\n",
       "      <td>-1.077372</td>\n",
       "      <td>0.317797</td>\n",
       "      <td>0.769561</td>\n",
       "      <td>-1.204058</td>\n",
       "    </tr>\n",
       "  </tbody>\n",
       "</table>\n",
       "</div>"
      ],
      "text/plain": [
       "                   0         1         2         3\n",
       "2025-03-20 -0.501284  0.289542  0.432653 -0.089215\n",
       "2025-03-21 -0.552027 -0.258441  0.670878 -1.239357\n",
       "2025-03-22  0.687088 -0.591504  2.604685  0.051636\n",
       "2025-03-23 -2.205045  0.136011  1.122895  0.395768\n",
       "2025-03-24 -0.712291 -0.931319 -0.746654  1.078600\n",
       "2025-03-25 -1.077372  0.317797  0.769561 -1.204058"
      ]
     },
     "execution_count": 6,
     "metadata": {},
     "output_type": "execute_result"
    }
   ],
   "source": [
    "df = pd.DataFrame(np.random.randn(6,4), index=dates)\n",
    "df"
   ]
  },
  {
   "cell_type": "code",
   "execution_count": null,
   "metadata": {},
   "outputs": [
    {
     "data": {
      "application/vnd.microsoft.datawrangler.viewer.v0+json": {
       "columns": [
        {
         "name": "index",
         "rawType": "datetime64[ns]",
         "type": "datetime"
        },
        {
         "name": "A",
         "rawType": "float64",
         "type": "float"
        },
        {
         "name": "B",
         "rawType": "float64",
         "type": "float"
        },
        {
         "name": "C",
         "rawType": "float64",
         "type": "float"
        },
        {
         "name": "D",
         "rawType": "float64",
         "type": "float"
        }
       ],
       "ref": "4a1cda4d-1a39-4fa9-9363-9234478d9917",
       "rows": [
        [
         "2025-03-20 00:00:00",
         "0.23313850491564658",
         "0.32506815289621616",
         "0.5032604329002037",
         "0.31778433751429147"
        ],
        [
         "2025-03-21 00:00:00",
         "0.3501037268770841",
         "-0.06164960932898117",
         "-0.786522722339464",
         "-0.4119369668008711"
        ],
        [
         "2025-03-22 00:00:00",
         "1.2182309925338979",
         "0.2747622110424648",
         "0.5820797517976012",
         "0.8811850614770633"
        ],
        [
         "2025-03-23 00:00:00",
         "-0.7719844787049482",
         "-0.6892883020105788",
         "-0.3283367499641124",
         "0.8930071173295413"
        ],
        [
         "2025-03-24 00:00:00",
         "0.8007198164018345",
         "1.1302006938371414",
         "-1.1942472160197544",
         "-1.3861169281596732"
        ],
        [
         "2025-03-25 00:00:00",
         "0.3567640640333612",
         "0.8091128690311361",
         "-2.2573782831750453",
         "-0.6423018329607928"
        ]
       ],
       "shape": {
        "columns": 4,
        "rows": 6
       }
      },
      "text/html": [
       "<div>\n",
       "<style scoped>\n",
       "    .dataframe tbody tr th:only-of-type {\n",
       "        vertical-align: middle;\n",
       "    }\n",
       "\n",
       "    .dataframe tbody tr th {\n",
       "        vertical-align: top;\n",
       "    }\n",
       "\n",
       "    .dataframe thead th {\n",
       "        text-align: right;\n",
       "    }\n",
       "</style>\n",
       "<table border=\"1\" class=\"dataframe\">\n",
       "  <thead>\n",
       "    <tr style=\"text-align: right;\">\n",
       "      <th></th>\n",
       "      <th>A</th>\n",
       "      <th>B</th>\n",
       "      <th>C</th>\n",
       "      <th>D</th>\n",
       "    </tr>\n",
       "  </thead>\n",
       "  <tbody>\n",
       "    <tr>\n",
       "      <th>2025-03-20</th>\n",
       "      <td>0.233139</td>\n",
       "      <td>0.325068</td>\n",
       "      <td>0.503260</td>\n",
       "      <td>0.317784</td>\n",
       "    </tr>\n",
       "    <tr>\n",
       "      <th>2025-03-21</th>\n",
       "      <td>0.350104</td>\n",
       "      <td>-0.061650</td>\n",
       "      <td>-0.786523</td>\n",
       "      <td>-0.411937</td>\n",
       "    </tr>\n",
       "    <tr>\n",
       "      <th>2025-03-22</th>\n",
       "      <td>1.218231</td>\n",
       "      <td>0.274762</td>\n",
       "      <td>0.582080</td>\n",
       "      <td>0.881185</td>\n",
       "    </tr>\n",
       "    <tr>\n",
       "      <th>2025-03-23</th>\n",
       "      <td>-0.771984</td>\n",
       "      <td>-0.689288</td>\n",
       "      <td>-0.328337</td>\n",
       "      <td>0.893007</td>\n",
       "    </tr>\n",
       "    <tr>\n",
       "      <th>2025-03-24</th>\n",
       "      <td>0.800720</td>\n",
       "      <td>1.130201</td>\n",
       "      <td>-1.194247</td>\n",
       "      <td>-1.386117</td>\n",
       "    </tr>\n",
       "    <tr>\n",
       "      <th>2025-03-25</th>\n",
       "      <td>0.356764</td>\n",
       "      <td>0.809113</td>\n",
       "      <td>-2.257378</td>\n",
       "      <td>-0.642302</td>\n",
       "    </tr>\n",
       "  </tbody>\n",
       "</table>\n",
       "</div>"
      ],
      "text/plain": [
       "                   A         B         C         D\n",
       "2025-03-20  0.233139  0.325068  0.503260  0.317784\n",
       "2025-03-21  0.350104 -0.061650 -0.786523 -0.411937\n",
       "2025-03-22  1.218231  0.274762  0.582080  0.881185\n",
       "2025-03-23 -0.771984 -0.689288 -0.328337  0.893007\n",
       "2025-03-24  0.800720  1.130201 -1.194247 -1.386117\n",
       "2025-03-25  0.356764  0.809113 -2.257378 -0.642302"
      ]
     },
     "execution_count": 7,
     "metadata": {},
     "output_type": "execute_result"
    }
   ],
   "source": [
    "df_1 = pd.DataFrame(np.random.randn(6,4), index=dates, columns=['A','B','C','D'])           \n",
    "df_1"
   ]
  },
  {
   "cell_type": "code",
   "execution_count": 8,
   "metadata": {},
   "outputs": [
    {
     "data": {
      "application/vnd.microsoft.datawrangler.viewer.v0+json": {
       "columns": [
        {
         "name": "index",
         "rawType": "int64",
         "type": "integer"
        },
        {
         "name": "A",
         "rawType": "float64",
         "type": "float"
        },
        {
         "name": "B",
         "rawType": "datetime64[s]",
         "type": "unknown"
        },
        {
         "name": "C",
         "rawType": "float32",
         "type": "float"
        },
        {
         "name": "D",
         "rawType": "int32",
         "type": "integer"
        },
        {
         "name": "E",
         "rawType": "category",
         "type": "unknown"
        },
        {
         "name": "F",
         "rawType": "object",
         "type": "string"
        }
       ],
       "ref": "613eb92f-b8e1-404a-9c12-91579f055b72",
       "rows": [
        [
         "0",
         "1.0",
         "2013-01-02 00:00:00",
         "1.0",
         "3",
         "test",
         "foo"
        ],
        [
         "1",
         "1.0",
         "2013-01-02 00:00:00",
         "1.0",
         "3",
         "train",
         "foo"
        ],
        [
         "2",
         "1.0",
         "2013-01-02 00:00:00",
         "1.0",
         "3",
         "test",
         "foo"
        ],
        [
         "3",
         "1.0",
         "2013-01-02 00:00:00",
         "1.0",
         "3",
         "train",
         "foo"
        ]
       ],
       "shape": {
        "columns": 6,
        "rows": 4
       }
      },
      "text/html": [
       "<div>\n",
       "<style scoped>\n",
       "    .dataframe tbody tr th:only-of-type {\n",
       "        vertical-align: middle;\n",
       "    }\n",
       "\n",
       "    .dataframe tbody tr th {\n",
       "        vertical-align: top;\n",
       "    }\n",
       "\n",
       "    .dataframe thead th {\n",
       "        text-align: right;\n",
       "    }\n",
       "</style>\n",
       "<table border=\"1\" class=\"dataframe\">\n",
       "  <thead>\n",
       "    <tr style=\"text-align: right;\">\n",
       "      <th></th>\n",
       "      <th>A</th>\n",
       "      <th>B</th>\n",
       "      <th>C</th>\n",
       "      <th>D</th>\n",
       "      <th>E</th>\n",
       "      <th>F</th>\n",
       "    </tr>\n",
       "  </thead>\n",
       "  <tbody>\n",
       "    <tr>\n",
       "      <th>0</th>\n",
       "      <td>1.0</td>\n",
       "      <td>2013-01-02</td>\n",
       "      <td>1.0</td>\n",
       "      <td>3</td>\n",
       "      <td>test</td>\n",
       "      <td>foo</td>\n",
       "    </tr>\n",
       "    <tr>\n",
       "      <th>1</th>\n",
       "      <td>1.0</td>\n",
       "      <td>2013-01-02</td>\n",
       "      <td>1.0</td>\n",
       "      <td>3</td>\n",
       "      <td>train</td>\n",
       "      <td>foo</td>\n",
       "    </tr>\n",
       "    <tr>\n",
       "      <th>2</th>\n",
       "      <td>1.0</td>\n",
       "      <td>2013-01-02</td>\n",
       "      <td>1.0</td>\n",
       "      <td>3</td>\n",
       "      <td>test</td>\n",
       "      <td>foo</td>\n",
       "    </tr>\n",
       "    <tr>\n",
       "      <th>3</th>\n",
       "      <td>1.0</td>\n",
       "      <td>2013-01-02</td>\n",
       "      <td>1.0</td>\n",
       "      <td>3</td>\n",
       "      <td>train</td>\n",
       "      <td>foo</td>\n",
       "    </tr>\n",
       "  </tbody>\n",
       "</table>\n",
       "</div>"
      ],
      "text/plain": [
       "     A          B    C  D      E    F\n",
       "0  1.0 2013-01-02  1.0  3   test  foo\n",
       "1  1.0 2013-01-02  1.0  3  train  foo\n",
       "2  1.0 2013-01-02  1.0  3   test  foo\n",
       "3  1.0 2013-01-02  1.0  3  train  foo"
      ]
     },
     "execution_count": 8,
     "metadata": {},
     "output_type": "execute_result"
    }
   ],
   "source": [
    "df2 = pd.DataFrame({'A': 1.,\n",
    "                    'B': pd.Timestamp('20130102'),\n",
    "                    'C': pd.Series(1,index=list(range(4)),dtype='float32'),\n",
    "                    'D': np.array([3] * 4,dtype='int32'),\n",
    "                    'E': pd.Categorical([\"test\",\"train\",\"test\",\"train\"]),\n",
    "                    'F': 'foo'})\n",
    "df2\n",
    "\n",
    "# df2.dtypes\n",
    "# df2.index\n",
    "# df2.columns"
   ]
  },
  {
   "cell_type": "code",
   "execution_count": 9,
   "metadata": {},
   "outputs": [
    {
     "data": {
      "application/vnd.microsoft.datawrangler.viewer.v0+json": {
       "columns": [
        {
         "name": "index",
         "rawType": "object",
         "type": "string"
        },
        {
         "name": "0",
         "rawType": "object",
         "type": "unknown"
        }
       ],
       "ref": "dfa5d8d2-0966-4f55-a2b2-c802b01f7cbb",
       "rows": [
        [
         "A",
         "float64"
        ],
        [
         "B",
         "datetime64[s]"
        ],
        [
         "C",
         "float32"
        ],
        [
         "D",
         "int32"
        ],
        [
         "E",
         "category"
        ],
        [
         "F",
         "object"
        ]
       ],
       "shape": {
        "columns": 1,
        "rows": 6
       }
      },
      "text/plain": [
       "A          float64\n",
       "B    datetime64[s]\n",
       "C          float32\n",
       "D            int32\n",
       "E         category\n",
       "F           object\n",
       "dtype: object"
      ]
     },
     "execution_count": 9,
     "metadata": {},
     "output_type": "execute_result"
    }
   ],
   "source": [
    "df2.dtypes"
   ]
  },
  {
   "cell_type": "code",
   "execution_count": 10,
   "metadata": {},
   "outputs": [
    {
     "data": {
      "application/vnd.microsoft.datawrangler.viewer.v0+json": {
       "columns": [
        {
         "name": "index",
         "rawType": "int64",
         "type": "integer"
        },
        {
         "name": "A",
         "rawType": "float64",
         "type": "float"
        },
        {
         "name": "B",
         "rawType": "datetime64[s]",
         "type": "unknown"
        },
        {
         "name": "C",
         "rawType": "float32",
         "type": "float"
        },
        {
         "name": "D",
         "rawType": "int32",
         "type": "integer"
        },
        {
         "name": "E",
         "rawType": "category",
         "type": "unknown"
        },
        {
         "name": "F",
         "rawType": "object",
         "type": "string"
        }
       ],
       "ref": "7053dbd0-a46e-4c34-b172-c40a36bc72ab",
       "rows": [
        [
         "0",
         null,
         "2013-01-02 00:00:00",
         "1.0",
         "3",
         "test",
         "foo"
        ],
        [
         "1",
         null,
         "2013-01-02 00:00:00",
         "1.0",
         "3",
         "train",
         "foo"
        ],
        [
         "2",
         null,
         "2013-01-02 00:00:00",
         "1.0",
         "3",
         "test",
         "foo"
        ],
        [
         "3",
         null,
         "2013-01-02 00:00:00",
         "1.0",
         "3",
         "train",
         "foo"
        ]
       ],
       "shape": {
        "columns": 6,
        "rows": 4
       }
      },
      "text/html": [
       "<div>\n",
       "<style scoped>\n",
       "    .dataframe tbody tr th:only-of-type {\n",
       "        vertical-align: middle;\n",
       "    }\n",
       "\n",
       "    .dataframe tbody tr th {\n",
       "        vertical-align: top;\n",
       "    }\n",
       "\n",
       "    .dataframe thead th {\n",
       "        text-align: right;\n",
       "    }\n",
       "</style>\n",
       "<table border=\"1\" class=\"dataframe\">\n",
       "  <thead>\n",
       "    <tr style=\"text-align: right;\">\n",
       "      <th></th>\n",
       "      <th>A</th>\n",
       "      <th>B</th>\n",
       "      <th>C</th>\n",
       "      <th>D</th>\n",
       "      <th>E</th>\n",
       "      <th>F</th>\n",
       "    </tr>\n",
       "  </thead>\n",
       "  <tbody>\n",
       "    <tr>\n",
       "      <th>0</th>\n",
       "      <td>NaN</td>\n",
       "      <td>2013-01-02</td>\n",
       "      <td>1.0</td>\n",
       "      <td>3</td>\n",
       "      <td>test</td>\n",
       "      <td>foo</td>\n",
       "    </tr>\n",
       "    <tr>\n",
       "      <th>1</th>\n",
       "      <td>NaN</td>\n",
       "      <td>2013-01-02</td>\n",
       "      <td>1.0</td>\n",
       "      <td>3</td>\n",
       "      <td>train</td>\n",
       "      <td>foo</td>\n",
       "    </tr>\n",
       "    <tr>\n",
       "      <th>2</th>\n",
       "      <td>NaN</td>\n",
       "      <td>2013-01-02</td>\n",
       "      <td>1.0</td>\n",
       "      <td>3</td>\n",
       "      <td>test</td>\n",
       "      <td>foo</td>\n",
       "    </tr>\n",
       "    <tr>\n",
       "      <th>3</th>\n",
       "      <td>NaN</td>\n",
       "      <td>2013-01-02</td>\n",
       "      <td>1.0</td>\n",
       "      <td>3</td>\n",
       "      <td>train</td>\n",
       "      <td>foo</td>\n",
       "    </tr>\n",
       "  </tbody>\n",
       "</table>\n",
       "</div>"
      ],
      "text/plain": [
       "    A          B    C  D      E    F\n",
       "0 NaN 2013-01-02  1.0  3   test  foo\n",
       "1 NaN 2013-01-02  1.0  3  train  foo\n",
       "2 NaN 2013-01-02  1.0  3   test  foo\n",
       "3 NaN 2013-01-02  1.0  3  train  foo"
      ]
     },
     "execution_count": 10,
     "metadata": {},
     "output_type": "execute_result"
    }
   ],
   "source": [
    "df2['A']\n",
    "df2['A'] = np.nan\n",
    "df2\n",
    "df2['A'] = pd.Series([1,2,3,4,5,6], index=pd.date_range('20250320', periods=6))\n",
    "df2\n",
    "\n"
   ]
  },
  {
   "cell_type": "code",
   "execution_count": 11,
   "metadata": {},
   "outputs": [
    {
     "data": {
      "text/plain": [
       "Index([0, 1, 2, 3], dtype='int64')"
      ]
     },
     "execution_count": 11,
     "metadata": {},
     "output_type": "execute_result"
    }
   ],
   "source": [
    "df2.index"
   ]
  },
  {
   "cell_type": "code",
   "execution_count": 12,
   "metadata": {},
   "outputs": [
    {
     "data": {
      "text/plain": [
       "Index(['A', 'B', 'C', 'D', 'E', 'F'], dtype='object')"
      ]
     },
     "execution_count": 12,
     "metadata": {},
     "output_type": "execute_result"
    }
   ],
   "source": [
    "df2.columns"
   ]
  },
  {
   "cell_type": "code",
   "execution_count": 13,
   "metadata": {},
   "outputs": [
    {
     "data": {
      "application/vnd.microsoft.datawrangler.viewer.v0+json": {
       "columns": [
        {
         "name": "index",
         "rawType": "object",
         "type": "string"
        },
        {
         "name": "0",
         "rawType": "float64",
         "type": "float"
        },
        {
         "name": "1",
         "rawType": "float64",
         "type": "float"
        },
        {
         "name": "2",
         "rawType": "float64",
         "type": "float"
        },
        {
         "name": "3",
         "rawType": "float64",
         "type": "float"
        }
       ],
       "ref": "f02f582c-5765-487f-9a74-93eef7ccbde3",
       "rows": [
        [
         "count",
         "6.0",
         "6.0",
         "6.0",
         "6.0"
        ],
        [
         "mean",
         "-0.726821860384511",
         "-0.1729855980445136",
         "0.8090029459769713",
         "-0.16777097445211128"
        ],
        [
         "std",
         "0.9368888374210899",
         "0.51143089298133",
         "1.0867699900389969",
         "0.9107703245278806"
        ],
        [
         "min",
         "-2.2050450991382586",
         "-0.9313187841518976",
         "-0.7466543238999163",
         "-1.239356907596853"
        ],
        [
         "25%",
         "-0.9861018794104578",
         "-0.5082380553612451",
         "0.4922090340493138",
         "-0.925347036685486"
        ],
        [
         "50%",
         "-0.632159269110925",
         "-0.06121538323149789",
         "0.7202196976629383",
         "-0.01878934494137094"
        ],
        [
         "75%",
         "-0.5139697451147638",
         "0.2511593065204652",
         "1.034561611445189",
         "0.3097350204317135"
        ],
        [
         "max",
         "0.6870884616793875",
         "0.3177973719811867",
         "2.604684875551823",
         "1.07859954247771"
        ]
       ],
       "shape": {
        "columns": 4,
        "rows": 8
       }
      },
      "text/html": [
       "<div>\n",
       "<style scoped>\n",
       "    .dataframe tbody tr th:only-of-type {\n",
       "        vertical-align: middle;\n",
       "    }\n",
       "\n",
       "    .dataframe tbody tr th {\n",
       "        vertical-align: top;\n",
       "    }\n",
       "\n",
       "    .dataframe thead th {\n",
       "        text-align: right;\n",
       "    }\n",
       "</style>\n",
       "<table border=\"1\" class=\"dataframe\">\n",
       "  <thead>\n",
       "    <tr style=\"text-align: right;\">\n",
       "      <th></th>\n",
       "      <th>0</th>\n",
       "      <th>1</th>\n",
       "      <th>2</th>\n",
       "      <th>3</th>\n",
       "    </tr>\n",
       "  </thead>\n",
       "  <tbody>\n",
       "    <tr>\n",
       "      <th>count</th>\n",
       "      <td>6.000000</td>\n",
       "      <td>6.000000</td>\n",
       "      <td>6.000000</td>\n",
       "      <td>6.000000</td>\n",
       "    </tr>\n",
       "    <tr>\n",
       "      <th>mean</th>\n",
       "      <td>-0.726822</td>\n",
       "      <td>-0.172986</td>\n",
       "      <td>0.809003</td>\n",
       "      <td>-0.167771</td>\n",
       "    </tr>\n",
       "    <tr>\n",
       "      <th>std</th>\n",
       "      <td>0.936889</td>\n",
       "      <td>0.511431</td>\n",
       "      <td>1.086770</td>\n",
       "      <td>0.910770</td>\n",
       "    </tr>\n",
       "    <tr>\n",
       "      <th>min</th>\n",
       "      <td>-2.205045</td>\n",
       "      <td>-0.931319</td>\n",
       "      <td>-0.746654</td>\n",
       "      <td>-1.239357</td>\n",
       "    </tr>\n",
       "    <tr>\n",
       "      <th>25%</th>\n",
       "      <td>-0.986102</td>\n",
       "      <td>-0.508238</td>\n",
       "      <td>0.492209</td>\n",
       "      <td>-0.925347</td>\n",
       "    </tr>\n",
       "    <tr>\n",
       "      <th>50%</th>\n",
       "      <td>-0.632159</td>\n",
       "      <td>-0.061215</td>\n",
       "      <td>0.720220</td>\n",
       "      <td>-0.018789</td>\n",
       "    </tr>\n",
       "    <tr>\n",
       "      <th>75%</th>\n",
       "      <td>-0.513970</td>\n",
       "      <td>0.251159</td>\n",
       "      <td>1.034562</td>\n",
       "      <td>0.309735</td>\n",
       "    </tr>\n",
       "    <tr>\n",
       "      <th>max</th>\n",
       "      <td>0.687088</td>\n",
       "      <td>0.317797</td>\n",
       "      <td>2.604685</td>\n",
       "      <td>1.078600</td>\n",
       "    </tr>\n",
       "  </tbody>\n",
       "</table>\n",
       "</div>"
      ],
      "text/plain": [
       "              0         1         2         3\n",
       "count  6.000000  6.000000  6.000000  6.000000\n",
       "mean  -0.726822 -0.172986  0.809003 -0.167771\n",
       "std    0.936889  0.511431  1.086770  0.910770\n",
       "min   -2.205045 -0.931319 -0.746654 -1.239357\n",
       "25%   -0.986102 -0.508238  0.492209 -0.925347\n",
       "50%   -0.632159 -0.061215  0.720220 -0.018789\n",
       "75%   -0.513970  0.251159  1.034562  0.309735\n",
       "max    0.687088  0.317797  2.604685  1.078600"
      ]
     },
     "execution_count": 13,
     "metadata": {},
     "output_type": "execute_result"
    }
   ],
   "source": [
    "df.describe()"
   ]
  },
  {
   "cell_type": "code",
   "execution_count": 14,
   "metadata": {},
   "outputs": [
    {
     "data": {
      "application/vnd.microsoft.datawrangler.viewer.v0+json": {
       "columns": [
        {
         "name": "index",
         "rawType": "int64",
         "type": "integer"
        },
        {
         "name": "2025-03-20 00:00:00",
         "rawType": "float64",
         "type": "float"
        },
        {
         "name": "2025-03-21 00:00:00",
         "rawType": "float64",
         "type": "float"
        },
        {
         "name": "2025-03-22 00:00:00",
         "rawType": "float64",
         "type": "float"
        },
        {
         "name": "2025-03-23 00:00:00",
         "rawType": "float64",
         "type": "float"
        },
        {
         "name": "2025-03-24 00:00:00",
         "rawType": "float64",
         "type": "float"
        },
        {
         "name": "2025-03-25 00:00:00",
         "rawType": "float64",
         "type": "float"
        }
       ],
       "ref": "5d7695bd-c13c-468f-81b0-46af7f4c799f",
       "rows": [
        [
         "0",
         "-0.5012838490314484",
         "-0.55202743336471",
         "0.6870884616793875",
         "-2.2050450991382586",
         "-0.71229110485714",
         "-1.077372137594897"
        ],
        [
         "1",
         "0.28954220441080447",
         "-0.2584413793124431",
         "-0.5915036140441792",
         "0.13601061284944732",
         "-0.9313187841518976",
         "0.3177973719811867"
        ],
        [
         "2",
         "0.432652641791329",
         "0.6708782108232684",
         "2.604684875551823",
         "1.122895087092716",
         "-0.7466543238999163",
         "0.769561184502608"
        ],
        [
         "3",
         "-0.08921481498010657",
         "-1.239356907596853",
         "0.05163612509736469",
         "0.39576798554316317",
         "1.07859954247771",
         "-1.2040577772539458"
        ]
       ],
       "shape": {
        "columns": 6,
        "rows": 4
       }
      },
      "text/html": [
       "<div>\n",
       "<style scoped>\n",
       "    .dataframe tbody tr th:only-of-type {\n",
       "        vertical-align: middle;\n",
       "    }\n",
       "\n",
       "    .dataframe tbody tr th {\n",
       "        vertical-align: top;\n",
       "    }\n",
       "\n",
       "    .dataframe thead th {\n",
       "        text-align: right;\n",
       "    }\n",
       "</style>\n",
       "<table border=\"1\" class=\"dataframe\">\n",
       "  <thead>\n",
       "    <tr style=\"text-align: right;\">\n",
       "      <th></th>\n",
       "      <th>2025-03-20</th>\n",
       "      <th>2025-03-21</th>\n",
       "      <th>2025-03-22</th>\n",
       "      <th>2025-03-23</th>\n",
       "      <th>2025-03-24</th>\n",
       "      <th>2025-03-25</th>\n",
       "    </tr>\n",
       "  </thead>\n",
       "  <tbody>\n",
       "    <tr>\n",
       "      <th>0</th>\n",
       "      <td>-0.501284</td>\n",
       "      <td>-0.552027</td>\n",
       "      <td>0.687088</td>\n",
       "      <td>-2.205045</td>\n",
       "      <td>-0.712291</td>\n",
       "      <td>-1.077372</td>\n",
       "    </tr>\n",
       "    <tr>\n",
       "      <th>1</th>\n",
       "      <td>0.289542</td>\n",
       "      <td>-0.258441</td>\n",
       "      <td>-0.591504</td>\n",
       "      <td>0.136011</td>\n",
       "      <td>-0.931319</td>\n",
       "      <td>0.317797</td>\n",
       "    </tr>\n",
       "    <tr>\n",
       "      <th>2</th>\n",
       "      <td>0.432653</td>\n",
       "      <td>0.670878</td>\n",
       "      <td>2.604685</td>\n",
       "      <td>1.122895</td>\n",
       "      <td>-0.746654</td>\n",
       "      <td>0.769561</td>\n",
       "    </tr>\n",
       "    <tr>\n",
       "      <th>3</th>\n",
       "      <td>-0.089215</td>\n",
       "      <td>-1.239357</td>\n",
       "      <td>0.051636</td>\n",
       "      <td>0.395768</td>\n",
       "      <td>1.078600</td>\n",
       "      <td>-1.204058</td>\n",
       "    </tr>\n",
       "  </tbody>\n",
       "</table>\n",
       "</div>"
      ],
      "text/plain": [
       "   2025-03-20  2025-03-21  2025-03-22  2025-03-23  2025-03-24  2025-03-25\n",
       "0   -0.501284   -0.552027    0.687088   -2.205045   -0.712291   -1.077372\n",
       "1    0.289542   -0.258441   -0.591504    0.136011   -0.931319    0.317797\n",
       "2    0.432653    0.670878    2.604685    1.122895   -0.746654    0.769561\n",
       "3   -0.089215   -1.239357    0.051636    0.395768    1.078600   -1.204058"
      ]
     },
     "execution_count": 14,
     "metadata": {},
     "output_type": "execute_result"
    }
   ],
   "source": [
    "df.T\n",
    "# df.sort_index(axis=1, ascending=False)\n",
    "# df.sort_index(axis=0, ascending=False)\n",
    "# df.sort_values(by='B')"
   ]
  },
  {
   "cell_type": "code",
   "execution_count": 15,
   "metadata": {},
   "outputs": [
    {
     "data": {
      "application/vnd.microsoft.datawrangler.viewer.v0+json": {
       "columns": [
        {
         "name": "index",
         "rawType": "int64",
         "type": "integer"
        },
        {
         "name": "0",
         "rawType": "float64",
         "type": "float"
        }
       ],
       "ref": "43c1ac74-4260-43f1-b45e-7c2319eeb401",
       "rows": [
        [
         "0",
         "-0.726821860384511"
        ],
        [
         "1",
         "-0.1729855980445136"
        ],
        [
         "2",
         "0.8090029459769713"
        ],
        [
         "3",
         "-0.16777097445211128"
        ]
       ],
       "shape": {
        "columns": 1,
        "rows": 4
       }
      },
      "text/plain": [
       "0   -0.726822\n",
       "1   -0.172986\n",
       "2    0.809003\n",
       "3   -0.167771\n",
       "dtype: float64"
      ]
     },
     "execution_count": 15,
     "metadata": {},
     "output_type": "execute_result"
    }
   ],
   "source": [
    "df.mean()\n",
    "# df.mean(axis=1)\n",
    "# df.median()\n",
    "# df.mode()\n",
    "# df.std()\n",
    "# df.var()\n"
   ]
  },
  {
   "cell_type": "code",
   "execution_count": 16,
   "metadata": {},
   "outputs": [
    {
     "data": {
      "application/vnd.microsoft.datawrangler.viewer.v0+json": {
       "columns": [
        {
         "name": "index",
         "rawType": "datetime64[ns]",
         "type": "datetime"
        },
        {
         "name": "3",
         "rawType": "float64",
         "type": "float"
        },
        {
         "name": "2",
         "rawType": "float64",
         "type": "float"
        },
        {
         "name": "1",
         "rawType": "float64",
         "type": "float"
        },
        {
         "name": "0",
         "rawType": "float64",
         "type": "float"
        }
       ],
       "ref": "2e202e7c-8d99-41d8-8a55-604719ba0a2e",
       "rows": [
        [
         "2025-03-20 00:00:00",
         "-0.08921481498010657",
         "0.432652641791329",
         "0.28954220441080447",
         "-0.5012838490314484"
        ],
        [
         "2025-03-21 00:00:00",
         "-1.239356907596853",
         "0.6708782108232684",
         "-0.2584413793124431",
         "-0.55202743336471"
        ],
        [
         "2025-03-22 00:00:00",
         "0.05163612509736469",
         "2.604684875551823",
         "-0.5915036140441792",
         "0.6870884616793875"
        ],
        [
         "2025-03-23 00:00:00",
         "0.39576798554316317",
         "1.122895087092716",
         "0.13601061284944732",
         "-2.2050450991382586"
        ],
        [
         "2025-03-24 00:00:00",
         "1.07859954247771",
         "-0.7466543238999163",
         "-0.9313187841518976",
         "-0.71229110485714"
        ],
        [
         "2025-03-25 00:00:00",
         "-1.2040577772539458",
         "0.769561184502608",
         "0.3177973719811867",
         "-1.077372137594897"
        ]
       ],
       "shape": {
        "columns": 4,
        "rows": 6
       }
      },
      "text/html": [
       "<div>\n",
       "<style scoped>\n",
       "    .dataframe tbody tr th:only-of-type {\n",
       "        vertical-align: middle;\n",
       "    }\n",
       "\n",
       "    .dataframe tbody tr th {\n",
       "        vertical-align: top;\n",
       "    }\n",
       "\n",
       "    .dataframe thead th {\n",
       "        text-align: right;\n",
       "    }\n",
       "</style>\n",
       "<table border=\"1\" class=\"dataframe\">\n",
       "  <thead>\n",
       "    <tr style=\"text-align: right;\">\n",
       "      <th></th>\n",
       "      <th>3</th>\n",
       "      <th>2</th>\n",
       "      <th>1</th>\n",
       "      <th>0</th>\n",
       "    </tr>\n",
       "  </thead>\n",
       "  <tbody>\n",
       "    <tr>\n",
       "      <th>2025-03-20</th>\n",
       "      <td>-0.089215</td>\n",
       "      <td>0.432653</td>\n",
       "      <td>0.289542</td>\n",
       "      <td>-0.501284</td>\n",
       "    </tr>\n",
       "    <tr>\n",
       "      <th>2025-03-21</th>\n",
       "      <td>-1.239357</td>\n",
       "      <td>0.670878</td>\n",
       "      <td>-0.258441</td>\n",
       "      <td>-0.552027</td>\n",
       "    </tr>\n",
       "    <tr>\n",
       "      <th>2025-03-22</th>\n",
       "      <td>0.051636</td>\n",
       "      <td>2.604685</td>\n",
       "      <td>-0.591504</td>\n",
       "      <td>0.687088</td>\n",
       "    </tr>\n",
       "    <tr>\n",
       "      <th>2025-03-23</th>\n",
       "      <td>0.395768</td>\n",
       "      <td>1.122895</td>\n",
       "      <td>0.136011</td>\n",
       "      <td>-2.205045</td>\n",
       "    </tr>\n",
       "    <tr>\n",
       "      <th>2025-03-24</th>\n",
       "      <td>1.078600</td>\n",
       "      <td>-0.746654</td>\n",
       "      <td>-0.931319</td>\n",
       "      <td>-0.712291</td>\n",
       "    </tr>\n",
       "    <tr>\n",
       "      <th>2025-03-25</th>\n",
       "      <td>-1.204058</td>\n",
       "      <td>0.769561</td>\n",
       "      <td>0.317797</td>\n",
       "      <td>-1.077372</td>\n",
       "    </tr>\n",
       "  </tbody>\n",
       "</table>\n",
       "</div>"
      ],
      "text/plain": [
       "                   3         2         1         0\n",
       "2025-03-20 -0.089215  0.432653  0.289542 -0.501284\n",
       "2025-03-21 -1.239357  0.670878 -0.258441 -0.552027\n",
       "2025-03-22  0.051636  2.604685 -0.591504  0.687088\n",
       "2025-03-23  0.395768  1.122895  0.136011 -2.205045\n",
       "2025-03-24  1.078600 -0.746654 -0.931319 -0.712291\n",
       "2025-03-25 -1.204058  0.769561  0.317797 -1.077372"
      ]
     },
     "execution_count": 16,
     "metadata": {},
     "output_type": "execute_result"
    }
   ],
   "source": [
    "df.sort_index(axis=1, ascending=False)"
   ]
  },
  {
   "cell_type": "code",
   "execution_count": null,
   "metadata": {},
   "outputs": [
    {
     "ename": "KeyError",
     "evalue": "'b'",
     "output_type": "error",
     "traceback": [
      "\u001b[31m---------------------------------------------------------------------------\u001b[39m",
      "\u001b[31mKeyError\u001b[39m                                  Traceback (most recent call last)",
      "\u001b[32m~\\AppData\\Local\\Temp\\ipykernel_27480\\3884749076.py\u001b[39m in \u001b[36m?\u001b[39m\u001b[34m()\u001b[39m\n\u001b[32m----> \u001b[39m\u001b[32m1\u001b[39m df.sort_values(by=\u001b[33m'b'\u001b[39m)\n\u001b[32m      2\u001b[39m \u001b[38;5;66;03m# df.apply(np.mean)\u001b[39;00m\n\u001b[32m      3\u001b[39m \u001b[38;5;66;03m# df.apply(np.mean, axis=1)\u001b[39;00m\n\u001b[32m      4\u001b[39m \u001b[38;5;66;03m# df.apply(lambda x: x.max() - x.min())\u001b[39;00m\n",
      "\u001b[32mc:\\Users\\User\\AppData\\Local\\Programs\\Python\\Python312\\Lib\\site-packages\\pandas\\core\\frame.py\u001b[39m in \u001b[36m?\u001b[39m\u001b[34m(self, by, axis, ascending, inplace, kind, na_position, ignore_index, key)\u001b[39m\n\u001b[32m   7185\u001b[39m             )\n\u001b[32m   7186\u001b[39m         \u001b[38;5;28;01melif\u001b[39;00m len(by):\n\u001b[32m   7187\u001b[39m             \u001b[38;5;66;03m# len(by) == 1\u001b[39;00m\n\u001b[32m   7188\u001b[39m \n\u001b[32m-> \u001b[39m\u001b[32m7189\u001b[39m             k = self._get_label_or_level_values(by[\u001b[32m0\u001b[39m], axis=axis)\n\u001b[32m   7190\u001b[39m \n\u001b[32m   7191\u001b[39m             \u001b[38;5;66;03m# need to rewrap column in Series to apply key function\u001b[39;00m\n\u001b[32m   7192\u001b[39m             \u001b[38;5;28;01mif\u001b[39;00m key \u001b[38;5;28;01mis\u001b[39;00m \u001b[38;5;28;01mnot\u001b[39;00m \u001b[38;5;28;01mNone\u001b[39;00m:\n",
      "\u001b[32mc:\\Users\\User\\AppData\\Local\\Programs\\Python\\Python312\\Lib\\site-packages\\pandas\\core\\generic.py\u001b[39m in \u001b[36m?\u001b[39m\u001b[34m(self, key, axis)\u001b[39m\n\u001b[32m   1907\u001b[39m             values = self.xs(key, axis=other_axes[\u001b[32m0\u001b[39m])._values\n\u001b[32m   1908\u001b[39m         \u001b[38;5;28;01melif\u001b[39;00m self._is_level_reference(key, axis=axis):\n\u001b[32m   1909\u001b[39m             values = self.axes[axis].get_level_values(key)._values\n\u001b[32m   1910\u001b[39m         \u001b[38;5;28;01melse\u001b[39;00m:\n\u001b[32m-> \u001b[39m\u001b[32m1911\u001b[39m             \u001b[38;5;28;01mraise\u001b[39;00m KeyError(key)\n\u001b[32m   1912\u001b[39m \n\u001b[32m   1913\u001b[39m         \u001b[38;5;66;03m# Check for duplicates\u001b[39;00m\n\u001b[32m   1914\u001b[39m         \u001b[38;5;28;01mif\u001b[39;00m values.ndim > \u001b[32m1\u001b[39m:\n",
      "\u001b[31mKeyError\u001b[39m: 'b'"
     ]
    }
   ],
   "source": [
    "df.sort_values(by='B')\n",
    "# df.apply(np.mean)\n",
    "# df.apply(np.mean, axis=1)\n",
    "# df.apply(lambda x: x.max() - x.min())\n",
    "# df.apply(lambda x: x.max() - x.min(), axis=1)\n",
    "\n"
   ]
  },
  {
   "cell_type": "markdown",
   "metadata": {},
   "source": [
    "## Read and write operation"
   ]
  },
  {
   "cell_type": "code",
   "execution_count": 20,
   "metadata": {},
   "outputs": [
    {
     "ename": "AttributeError",
     "evalue": "'DataFrame' object has no attribute 'read_csv'",
     "output_type": "error",
     "traceback": [
      "\u001b[31m---------------------------------------------------------------------------\u001b[39m",
      "\u001b[31mAttributeError\u001b[39m                            Traceback (most recent call last)",
      "\u001b[32m~\\AppData\\Local\\Temp\\ipykernel_27480\\3032052434.py\u001b[39m in \u001b[36m?\u001b[39m\u001b[34m()\u001b[39m\n\u001b[32m----> \u001b[39m\u001b[32m1\u001b[39m df.read_csv(\u001b[33m'data.csv'\u001b[39m)\n\u001b[32m      2\u001b[39m df.to_csv(\u001b[33m'data.csv'\u001b[39m)\n\u001b[32m      3\u001b[39m df.read_excel(\u001b[33m'data.xlsx'\u001b[39m)\n\u001b[32m      4\u001b[39m df.to_excel(\u001b[33m'data.xlsx'\u001b[39m)\n",
      "\u001b[32mc:\\Users\\User\\AppData\\Local\\Programs\\Python\\Python312\\Lib\\site-packages\\pandas\\core\\generic.py\u001b[39m in \u001b[36m?\u001b[39m\u001b[34m(self, name)\u001b[39m\n\u001b[32m   6295\u001b[39m             \u001b[38;5;28;01mand\u001b[39;00m name \u001b[38;5;28;01mnot\u001b[39;00m \u001b[38;5;28;01min\u001b[39;00m self._accessors\n\u001b[32m   6296\u001b[39m             \u001b[38;5;28;01mand\u001b[39;00m self._info_axis._can_hold_identifiers_and_holds_name(name)\n\u001b[32m   6297\u001b[39m         ):\n\u001b[32m   6298\u001b[39m             \u001b[38;5;28;01mreturn\u001b[39;00m self[name]\n\u001b[32m-> \u001b[39m\u001b[32m6299\u001b[39m         \u001b[38;5;28;01mreturn\u001b[39;00m object.__getattribute__(self, name)\n",
      "\u001b[31mAttributeError\u001b[39m: 'DataFrame' object has no attribute 'read_csv'"
     ]
    }
   ],
   "source": [
    "df.read_csv('data.csv')\n",
    "df.to_csv('data.csv')\n",
    "df.read_excel('data.xlsx')\n",
    "df.to_excel('data.xlsx')\n",
    "df.read_json('data.json')\n",
    "df.to_json('data.json')\n",
    "\n"
   ]
  },
  {
   "cell_type": "code",
   "execution_count": 21,
   "metadata": {},
   "outputs": [],
   "source": [
    "df.to_csv('data.csv')\n",
    "# df.to_excel('data.xlsx')\n",
    "# df.to_json('data.json')\n",
    "# df.to_pickle('data.pkl')\n",
    "# df.to_parquet('data.parquet')\n",
    "# df.to_sql('data.sql', con=engine)\n"
   ]
  },
  {
   "cell_type": "code",
   "execution_count": 22,
   "metadata": {},
   "outputs": [],
   "source": [
    "df.to_excel('data.xlsx')"
   ]
  }
 ],
 "metadata": {
  "kernelspec": {
   "display_name": "Python 3",
   "language": "python",
   "name": "python3"
  },
  "language_info": {
   "codemirror_mode": {
    "name": "ipython",
    "version": 3
   },
   "file_extension": ".py",
   "mimetype": "text/x-python",
   "name": "python",
   "nbconvert_exporter": "python",
   "pygments_lexer": "ipython3",
   "version": "3.12.8"
  }
 },
 "nbformat": 4,
 "nbformat_minor": 2
}
